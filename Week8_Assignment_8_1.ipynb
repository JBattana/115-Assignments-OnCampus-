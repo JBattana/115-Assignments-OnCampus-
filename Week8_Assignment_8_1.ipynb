{
  "nbformat": 4,
  "nbformat_minor": 0,
  "metadata": {
    "colab": {
      "provenance": [],
      "authorship_tag": "ABX9TyMXz0BEYjPPwnfXU45OaETX",
      "include_colab_link": true
    },
    "kernelspec": {
      "name": "python3",
      "display_name": "Python 3"
    },
    "language_info": {
      "name": "python"
    }
  },
  "cells": [
    {
      "cell_type": "markdown",
      "metadata": {
        "id": "view-in-github",
        "colab_type": "text"
      },
      "source": [
        "<a href=\"https://colab.research.google.com/github/JBattana/115-Assignments-OnCampus-/blob/main/Week8_Assignment_8_1.ipynb\" target=\"_parent\"><img src=\"https://colab.research.google.com/assets/colab-badge.svg\" alt=\"Open In Colab\"/></a>"
      ]
    },
    {
      "cell_type": "markdown",
      "source": [
        "About the data:\n",
        "\n",
        "Order Value: Represents the total value of the customer's order.\n",
        "\n",
        "Customer Rating: Represents the rating given by the customer, typically between 1 and 5.\n",
        "\n",
        "Shipping Time (Days): Represents the number of days taken to deliver the order.\n",
        "\n",
        "\n",
        "**Note: This assignment and dataset have outliers and missing values generated on purpose to help you understand the importance of data cleaning and preprocessing in preparing data for analysis and modeling**"
      ],
      "metadata": {
        "id": "UfVahlNp3EBk"
      }
    },
    {
      "cell_type": "code",
      "execution_count": 1,
      "metadata": {
        "colab": {
          "base_uri": "https://localhost:8080/"
        },
        "id": "zeMaQBW42iYJ",
        "outputId": "b1e80ab9-4428-4497-f3fc-812f85bbdd48"
      },
      "outputs": [
        {
          "output_type": "stream",
          "name": "stdout",
          "text": [
            "    Order Value  Customer Rating  Shipping Time (Days)\n",
            "0    109.934283         3.699147                     2\n",
            "1     97.234714         4.926139                     1\n",
            "2    112.953771         3.993251                     7\n",
            "3    130.460597         3.471145                     7\n",
            "4     95.316933         4.411272                     8\n",
            "5     95.317261         3.389578                     5\n",
            "6    131.584256         4.104432                     3\n",
            "7    115.348695         3.020165                     8\n",
            "8     90.610512         3.335907                     6\n",
            "9    110.851201         4.098431                     3\n",
            "10    90.731646         4.369233                     1\n",
            "11    90.685405         4.085684                     3\n",
            "12   104.839245         3.942176                     5\n",
            "13   400.000000         1.000000                     3\n",
            "14    65.501643         5.000000                     1\n",
            "15    88.754249              NaN                     5\n",
            "16    79.743378         3.769681                     7\n",
            "17   106.284947         4.528561                     7\n",
            "18    81.839518              NaN                     9\n",
            "19    71.753926         3.118480                     3\n",
            "20   129.312975         4.162042                     7\n",
            "21    95.484474         3.807459                     1\n",
            "22   101.350564         3.661539                     4\n",
            "23          NaN         4.305838                     4\n",
            "24    89.112346         4.515500                     5\n",
            "25   102.218452         4.465640                     7\n",
            "26    76.980128         3.580391                     7\n",
            "27   107.513960         3.845394                     4\n",
            "28          NaN         4.165632                     7\n",
            "29   300.000000         4.487773                     3\n"
          ]
        }
      ],
      "source": [
        "# Run this cell first and then answer the questions given in the assignment.\n",
        "\n",
        "import numpy as np\n",
        "import pandas as pd\n",
        "\n",
        "np.random.seed(42)\n",
        "\n",
        "# Generating sample data\n",
        "data = {\n",
        "    'Order Value': np.random.normal(100, 20, 30),\n",
        "    'Customer Rating': np.random.normal(4, 0.5, 30),\n",
        "    'Shipping Time (Days)': np.random.randint(1, 10, 30)\n",
        "}\n",
        "\n",
        "# Introducing missing values and outliers on purpose\n",
        "data['Order Value'][np.random.choice(30, 3, replace=False)] = np.nan\n",
        "data['Customer Rating'][np.random.choice(30, 2, replace=False)] = np.nan\n",
        "\n",
        "data['Order Value'][np.random.choice(30, 2, replace=False)] = [300, 400]\n",
        "data['Customer Rating'][np.random.choice(30, 2, replace=False)] = [1, 5]\n",
        "\n",
        "# Convert to DataFrame\n",
        "df = pd.DataFrame(data)\n",
        "\n",
        "# Display the DataFrame\n",
        "print(df)\n"
      ]
    }
  ]
}